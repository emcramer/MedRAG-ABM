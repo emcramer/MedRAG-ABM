{
 "cells": [
  {
   "cell_type": "code",
   "execution_count": 5,
   "id": "adf77786",
   "metadata": {},
   "outputs": [],
   "source": [
    "import requests\n",
    "import ast"
   ]
  },
  {
   "cell_type": "code",
   "execution_count": 8,
   "id": "3c52b27b",
   "metadata": {},
   "outputs": [],
   "source": [
    "with open('pmids.txt','r') as f:\n",
    "    pmids = ast.literal_eval(f.readlines()[0])"
   ]
  },
  {
   "cell_type": "code",
   "execution_count": 92,
   "id": "c8051aed",
   "metadata": {},
   "outputs": [],
   "source": [
    "def return_full_text(pmid):\n",
    "    url = f'https://www.ncbi.nlm.nih.gov/research/bionlp/RESTful/pmcoa.cgi/BioC_json/PMC{pmid}/unicode'\n",
    "    x = requests.get(url)\n",
    "    if x.text.startswith('No record can be found'):\n",
    "        url = f'https://www.ncbi.nlm.nih.gov/research/bionlp/RESTful/pmcoa.cgi/BioC_json/{pmid}/unicode'\n",
    "        x = requests.get(url)\n",
    "        if x.text.startswith('No record can be found'):\n",
    "            print(f'PMC{pmid} retrieval failed')\n",
    "            return None\n",
    "        else:\n",
    "            print(f'PMC{pmid} retrieval success')\n",
    "    else:\n",
    "        print(f'PMC{pmid} retrieval success')\n",
    "    try:\n",
    "        data = ast.literal_eval(x.text)[0]\n",
    "    except ValueError:\n",
    "        print('error extracting text')\n",
    "        return None\n",
    "    num_passages = len(data['documents'][0]['passages'])\n",
    "    \n",
    "    full_text = ''.join([data['documents'][0]['passages'][i]['text'] for i in range(num_passages)])\n",
    "    return full_text"
   ]
  },
  {
   "cell_type": "code",
   "execution_count": 93,
   "id": "88c95875",
   "metadata": {
    "scrolled": true
   },
   "outputs": [
    {
     "name": "stdout",
     "output_type": "stream",
     "text": [
      "PMC7458088 retrieval success\n",
      "error extracting text\n"
     ]
    }
   ],
   "source": [
    "return_full_text(7458088)"
   ]
  },
  {
   "cell_type": "code",
   "execution_count": 94,
   "id": "4d66c8c1",
   "metadata": {
    "scrolled": false
   },
   "outputs": [
    {
     "name": "stdout",
     "output_type": "stream",
     "text": [
      "PMC9391125 retrieval success\n",
      "PMC17675562 retrieval failed\n",
      "PMC1540396 retrieval failed\n",
      "PMC12968525 retrieval failed\n",
      "PMC28410399 retrieval success\n",
      "PMC23072111 retrieval failed\n",
      "PMC26157167 retrieval success\n",
      "PMC7462021 retrieval success\n",
      "PMC18401831 retrieval failed\n",
      "PMC24165549 retrieval failed\n",
      "PMC23706521 retrieval failed\n",
      "PMC10614769 retrieval failed\n",
      "PMC10741464 retrieval success\n",
      "PMC2745569 retrieval success\n",
      "PMC3013885 retrieval failed\n",
      "PMC11509826 retrieval failed\n",
      "PMC6888481 retrieval success\n",
      "PMC25913486 retrieval success\n",
      "PMC3009390 retrieval success\n",
      "PMC10846024 retrieval failed\n",
      "PMC3337893 retrieval success\n",
      "PMC28011141 retrieval success\n",
      "PMC3087056 retrieval failed\n",
      "PMC3819723 retrieval success\n",
      "PMC3364082 retrieval success\n",
      "PMC165185 retrieval failed\n",
      "PMC21247579 retrieval failed\n",
      "PMC8331923 retrieval failed\n",
      "PMC31902842 retrieval failed\n",
      "PMC3440778 retrieval failed\n",
      "PMC7458088 retrieval success\n",
      "error extracting text\n",
      "PMC24466087 retrieval success\n",
      "PMC27774476 retrieval success\n",
      "PMC3355797 retrieval success\n",
      "PMC34576310 retrieval success\n",
      "PMC14729515 retrieval failed\n",
      "PMC10427991 retrieval success\n",
      "PMC28330951 retrieval success\n",
      "PMC21950133 retrieval failed\n",
      "PMC14559717 retrieval failed\n",
      "PMC19401393 retrieval failed\n",
      "PMC8630267 retrieval failed\n",
      "PMC8312559 retrieval success\n",
      "PMC9729560 retrieval success\n",
      "PMC27075387 retrieval failed\n",
      "PMC10440753 retrieval success\n",
      "PMC1034634 retrieval failed\n",
      "PMC29079853 retrieval success\n",
      "PMC23494472 retrieval failed\n",
      "PMC23179187 retrieval failed\n"
     ]
    }
   ],
   "source": [
    "texts = [return_full_text(pmid) for pmid in pmids]"
   ]
  },
  {
   "cell_type": "code",
   "execution_count": 72,
   "id": "9d4acf01",
   "metadata": {
    "scrolled": false
   },
   "outputs": [
    {
     "name": "stdout",
     "output_type": "stream",
     "text": [
      "PMC9391125 retrieval success\n",
      "PMC17675562 retrieval failed\n",
      "PMC1540396 retrieval failed\n",
      "PMC12968525 retrieval failed\n",
      "PMC28410399 retrieval failed\n",
      "PMC23072111 retrieval failed\n",
      "PMC26157167 retrieval failed\n",
      "PMC7462021 retrieval success\n",
      "PMC18401831 retrieval failed\n",
      "PMC24165549 retrieval failed\n",
      "PMC23706521 retrieval failed\n",
      "PMC10614769 retrieval failed\n",
      "PMC10741464 retrieval success\n",
      "PMC2745569 retrieval success\n",
      "PMC3013885 retrieval failed\n",
      "PMC11509826 retrieval failed\n",
      "PMC6888481 retrieval success\n",
      "PMC25913486 retrieval failed\n",
      "PMC3009390 retrieval success\n",
      "PMC10846024 retrieval failed\n",
      "PMC3337893 retrieval success\n",
      "PMC28011141 retrieval failed\n",
      "PMC3087056 retrieval failed\n",
      "PMC3819723 retrieval success\n",
      "PMC3364082 retrieval success\n",
      "PMC165185 retrieval failed\n",
      "PMC21247579 retrieval failed\n",
      "PMC8331923 retrieval failed\n",
      "PMC31902842 retrieval failed\n",
      "PMC3440778 retrieval failed\n",
      "PMC7458088 retrieval success\n"
     ]
    },
    {
     "ename": "ValueError",
     "evalue": "malformed node or string: <ast.Name object at 0x7f5df5174fa0>",
     "output_type": "error",
     "traceback": [
      "\u001b[0;31m---------------------------------------------------------------------------\u001b[0m",
      "\u001b[0;31mValueError\u001b[0m                                Traceback (most recent call last)",
      "Cell \u001b[0;32mIn[72], line 1\u001b[0m\n\u001b[0;32m----> 1\u001b[0m texts \u001b[38;5;241m=\u001b[39m [return_full_text(pmid) \u001b[38;5;28;01mfor\u001b[39;00m pmid \u001b[38;5;129;01min\u001b[39;00m pmids]\n",
      "Cell \u001b[0;32mIn[72], line 1\u001b[0m, in \u001b[0;36m<listcomp>\u001b[0;34m(.0)\u001b[0m\n\u001b[0;32m----> 1\u001b[0m texts \u001b[38;5;241m=\u001b[39m [\u001b[43mreturn_full_text\u001b[49m\u001b[43m(\u001b[49m\u001b[43mpmid\u001b[49m\u001b[43m)\u001b[49m \u001b[38;5;28;01mfor\u001b[39;00m pmid \u001b[38;5;129;01min\u001b[39;00m pmids]\n",
      "Cell \u001b[0;32mIn[71], line 9\u001b[0m, in \u001b[0;36mreturn_full_text\u001b[0;34m(pmid)\u001b[0m\n\u001b[1;32m      7\u001b[0m \u001b[38;5;28;01melse\u001b[39;00m:\n\u001b[1;32m      8\u001b[0m     \u001b[38;5;28mprint\u001b[39m(\u001b[38;5;124mf\u001b[39m\u001b[38;5;124m'\u001b[39m\u001b[38;5;124mPMC\u001b[39m\u001b[38;5;132;01m{\u001b[39;00mpmid\u001b[38;5;132;01m}\u001b[39;00m\u001b[38;5;124m retrieval success\u001b[39m\u001b[38;5;124m'\u001b[39m)\n\u001b[0;32m----> 9\u001b[0m data \u001b[38;5;241m=\u001b[39m \u001b[43mast\u001b[49m\u001b[38;5;241;43m.\u001b[39;49m\u001b[43mliteral_eval\u001b[49m\u001b[43m(\u001b[49m\u001b[43mx\u001b[49m\u001b[38;5;241;43m.\u001b[39;49m\u001b[43mtext\u001b[49m\u001b[43m)\u001b[49m[\u001b[38;5;241m0\u001b[39m]\n\u001b[1;32m     10\u001b[0m num_passages \u001b[38;5;241m=\u001b[39m \u001b[38;5;28mlen\u001b[39m(data[\u001b[38;5;124m'\u001b[39m\u001b[38;5;124mdocuments\u001b[39m\u001b[38;5;124m'\u001b[39m][\u001b[38;5;241m0\u001b[39m][\u001b[38;5;124m'\u001b[39m\u001b[38;5;124mpassages\u001b[39m\u001b[38;5;124m'\u001b[39m])\n\u001b[1;32m     12\u001b[0m full_text \u001b[38;5;241m=\u001b[39m \u001b[38;5;124m'\u001b[39m\u001b[38;5;124m'\u001b[39m\u001b[38;5;241m.\u001b[39mjoin([data[\u001b[38;5;124m'\u001b[39m\u001b[38;5;124mdocuments\u001b[39m\u001b[38;5;124m'\u001b[39m][\u001b[38;5;241m0\u001b[39m][\u001b[38;5;124m'\u001b[39m\u001b[38;5;124mpassages\u001b[39m\u001b[38;5;124m'\u001b[39m][i][\u001b[38;5;124m'\u001b[39m\u001b[38;5;124mtext\u001b[39m\u001b[38;5;124m'\u001b[39m] \u001b[38;5;28;01mfor\u001b[39;00m i \u001b[38;5;129;01min\u001b[39;00m \u001b[38;5;28mrange\u001b[39m(num_passages)])\n",
      "File \u001b[0;32m/home/groups/ChangLab/simsz/conda/envs/wsi_process/lib/python3.9/ast.py:105\u001b[0m, in \u001b[0;36mliteral_eval\u001b[0;34m(node_or_string)\u001b[0m\n\u001b[1;32m    103\u001b[0m                 \u001b[38;5;28;01mreturn\u001b[39;00m left \u001b[38;5;241m-\u001b[39m right\n\u001b[1;32m    104\u001b[0m     \u001b[38;5;28;01mreturn\u001b[39;00m _convert_signed_num(node)\n\u001b[0;32m--> 105\u001b[0m \u001b[38;5;28;01mreturn\u001b[39;00m \u001b[43m_convert\u001b[49m\u001b[43m(\u001b[49m\u001b[43mnode_or_string\u001b[49m\u001b[43m)\u001b[49m\n",
      "File \u001b[0;32m/home/groups/ChangLab/simsz/conda/envs/wsi_process/lib/python3.9/ast.py:85\u001b[0m, in \u001b[0;36mliteral_eval.<locals>._convert\u001b[0;34m(node)\u001b[0m\n\u001b[1;32m     83\u001b[0m     \u001b[38;5;28;01mreturn\u001b[39;00m \u001b[38;5;28mtuple\u001b[39m(\u001b[38;5;28mmap\u001b[39m(_convert, node\u001b[38;5;241m.\u001b[39melts))\n\u001b[1;32m     84\u001b[0m \u001b[38;5;28;01melif\u001b[39;00m \u001b[38;5;28misinstance\u001b[39m(node, List):\n\u001b[0;32m---> 85\u001b[0m     \u001b[38;5;28;01mreturn\u001b[39;00m \u001b[38;5;28;43mlist\u001b[39;49m\u001b[43m(\u001b[49m\u001b[38;5;28;43mmap\u001b[39;49m\u001b[43m(\u001b[49m\u001b[43m_convert\u001b[49m\u001b[43m,\u001b[49m\u001b[43m \u001b[49m\u001b[43mnode\u001b[49m\u001b[38;5;241;43m.\u001b[39;49m\u001b[43melts\u001b[49m\u001b[43m)\u001b[49m\u001b[43m)\u001b[49m\n\u001b[1;32m     86\u001b[0m \u001b[38;5;28;01melif\u001b[39;00m \u001b[38;5;28misinstance\u001b[39m(node, Set):\n\u001b[1;32m     87\u001b[0m     \u001b[38;5;28;01mreturn\u001b[39;00m \u001b[38;5;28mset\u001b[39m(\u001b[38;5;28mmap\u001b[39m(_convert, node\u001b[38;5;241m.\u001b[39melts))\n",
      "File \u001b[0;32m/home/groups/ChangLab/simsz/conda/envs/wsi_process/lib/python3.9/ast.py:94\u001b[0m, in \u001b[0;36mliteral_eval.<locals>._convert\u001b[0;34m(node)\u001b[0m\n\u001b[1;32m     92\u001b[0m     \u001b[38;5;28;01mif\u001b[39;00m \u001b[38;5;28mlen\u001b[39m(node\u001b[38;5;241m.\u001b[39mkeys) \u001b[38;5;241m!=\u001b[39m \u001b[38;5;28mlen\u001b[39m(node\u001b[38;5;241m.\u001b[39mvalues):\n\u001b[1;32m     93\u001b[0m         _raise_malformed_node(node)\n\u001b[0;32m---> 94\u001b[0m     \u001b[38;5;28;01mreturn\u001b[39;00m \u001b[38;5;28;43mdict\u001b[39;49m\u001b[43m(\u001b[49m\u001b[38;5;28;43mzip\u001b[39;49m\u001b[43m(\u001b[49m\u001b[38;5;28;43mmap\u001b[39;49m\u001b[43m(\u001b[49m\u001b[43m_convert\u001b[49m\u001b[43m,\u001b[49m\u001b[43m \u001b[49m\u001b[43mnode\u001b[49m\u001b[38;5;241;43m.\u001b[39;49m\u001b[43mkeys\u001b[49m\u001b[43m)\u001b[49m\u001b[43m,\u001b[49m\n\u001b[1;32m     95\u001b[0m \u001b[43m                    \u001b[49m\u001b[38;5;28;43mmap\u001b[39;49m\u001b[43m(\u001b[49m\u001b[43m_convert\u001b[49m\u001b[43m,\u001b[49m\u001b[43m \u001b[49m\u001b[43mnode\u001b[49m\u001b[38;5;241;43m.\u001b[39;49m\u001b[43mvalues\u001b[49m\u001b[43m)\u001b[49m\u001b[43m)\u001b[49m\u001b[43m)\u001b[49m\n\u001b[1;32m     96\u001b[0m \u001b[38;5;28;01melif\u001b[39;00m \u001b[38;5;28misinstance\u001b[39m(node, BinOp) \u001b[38;5;129;01mand\u001b[39;00m \u001b[38;5;28misinstance\u001b[39m(node\u001b[38;5;241m.\u001b[39mop, (Add, Sub)):\n\u001b[1;32m     97\u001b[0m     left \u001b[38;5;241m=\u001b[39m _convert_signed_num(node\u001b[38;5;241m.\u001b[39mleft)\n",
      "File \u001b[0;32m/home/groups/ChangLab/simsz/conda/envs/wsi_process/lib/python3.9/ast.py:85\u001b[0m, in \u001b[0;36mliteral_eval.<locals>._convert\u001b[0;34m(node)\u001b[0m\n\u001b[1;32m     83\u001b[0m     \u001b[38;5;28;01mreturn\u001b[39;00m \u001b[38;5;28mtuple\u001b[39m(\u001b[38;5;28mmap\u001b[39m(_convert, node\u001b[38;5;241m.\u001b[39melts))\n\u001b[1;32m     84\u001b[0m \u001b[38;5;28;01melif\u001b[39;00m \u001b[38;5;28misinstance\u001b[39m(node, List):\n\u001b[0;32m---> 85\u001b[0m     \u001b[38;5;28;01mreturn\u001b[39;00m \u001b[38;5;28;43mlist\u001b[39;49m\u001b[43m(\u001b[49m\u001b[38;5;28;43mmap\u001b[39;49m\u001b[43m(\u001b[49m\u001b[43m_convert\u001b[49m\u001b[43m,\u001b[49m\u001b[43m \u001b[49m\u001b[43mnode\u001b[49m\u001b[38;5;241;43m.\u001b[39;49m\u001b[43melts\u001b[49m\u001b[43m)\u001b[49m\u001b[43m)\u001b[49m\n\u001b[1;32m     86\u001b[0m \u001b[38;5;28;01melif\u001b[39;00m \u001b[38;5;28misinstance\u001b[39m(node, Set):\n\u001b[1;32m     87\u001b[0m     \u001b[38;5;28;01mreturn\u001b[39;00m \u001b[38;5;28mset\u001b[39m(\u001b[38;5;28mmap\u001b[39m(_convert, node\u001b[38;5;241m.\u001b[39melts))\n",
      "File \u001b[0;32m/home/groups/ChangLab/simsz/conda/envs/wsi_process/lib/python3.9/ast.py:94\u001b[0m, in \u001b[0;36mliteral_eval.<locals>._convert\u001b[0;34m(node)\u001b[0m\n\u001b[1;32m     92\u001b[0m     \u001b[38;5;28;01mif\u001b[39;00m \u001b[38;5;28mlen\u001b[39m(node\u001b[38;5;241m.\u001b[39mkeys) \u001b[38;5;241m!=\u001b[39m \u001b[38;5;28mlen\u001b[39m(node\u001b[38;5;241m.\u001b[39mvalues):\n\u001b[1;32m     93\u001b[0m         _raise_malformed_node(node)\n\u001b[0;32m---> 94\u001b[0m     \u001b[38;5;28;01mreturn\u001b[39;00m \u001b[38;5;28;43mdict\u001b[39;49m\u001b[43m(\u001b[49m\u001b[38;5;28;43mzip\u001b[39;49m\u001b[43m(\u001b[49m\u001b[38;5;28;43mmap\u001b[39;49m\u001b[43m(\u001b[49m\u001b[43m_convert\u001b[49m\u001b[43m,\u001b[49m\u001b[43m \u001b[49m\u001b[43mnode\u001b[49m\u001b[38;5;241;43m.\u001b[39;49m\u001b[43mkeys\u001b[49m\u001b[43m)\u001b[49m\u001b[43m,\u001b[49m\n\u001b[1;32m     95\u001b[0m \u001b[43m                    \u001b[49m\u001b[38;5;28;43mmap\u001b[39;49m\u001b[43m(\u001b[49m\u001b[43m_convert\u001b[49m\u001b[43m,\u001b[49m\u001b[43m \u001b[49m\u001b[43mnode\u001b[49m\u001b[38;5;241;43m.\u001b[39;49m\u001b[43mvalues\u001b[49m\u001b[43m)\u001b[49m\u001b[43m)\u001b[49m\u001b[43m)\u001b[49m\n\u001b[1;32m     96\u001b[0m \u001b[38;5;28;01melif\u001b[39;00m \u001b[38;5;28misinstance\u001b[39m(node, BinOp) \u001b[38;5;129;01mand\u001b[39;00m \u001b[38;5;28misinstance\u001b[39m(node\u001b[38;5;241m.\u001b[39mop, (Add, Sub)):\n\u001b[1;32m     97\u001b[0m     left \u001b[38;5;241m=\u001b[39m _convert_signed_num(node\u001b[38;5;241m.\u001b[39mleft)\n",
      "File \u001b[0;32m/home/groups/ChangLab/simsz/conda/envs/wsi_process/lib/python3.9/ast.py:85\u001b[0m, in \u001b[0;36mliteral_eval.<locals>._convert\u001b[0;34m(node)\u001b[0m\n\u001b[1;32m     83\u001b[0m     \u001b[38;5;28;01mreturn\u001b[39;00m \u001b[38;5;28mtuple\u001b[39m(\u001b[38;5;28mmap\u001b[39m(_convert, node\u001b[38;5;241m.\u001b[39melts))\n\u001b[1;32m     84\u001b[0m \u001b[38;5;28;01melif\u001b[39;00m \u001b[38;5;28misinstance\u001b[39m(node, List):\n\u001b[0;32m---> 85\u001b[0m     \u001b[38;5;28;01mreturn\u001b[39;00m \u001b[38;5;28;43mlist\u001b[39;49m\u001b[43m(\u001b[49m\u001b[38;5;28;43mmap\u001b[39;49m\u001b[43m(\u001b[49m\u001b[43m_convert\u001b[49m\u001b[43m,\u001b[49m\u001b[43m \u001b[49m\u001b[43mnode\u001b[49m\u001b[38;5;241;43m.\u001b[39;49m\u001b[43melts\u001b[49m\u001b[43m)\u001b[49m\u001b[43m)\u001b[49m\n\u001b[1;32m     86\u001b[0m \u001b[38;5;28;01melif\u001b[39;00m \u001b[38;5;28misinstance\u001b[39m(node, Set):\n\u001b[1;32m     87\u001b[0m     \u001b[38;5;28;01mreturn\u001b[39;00m \u001b[38;5;28mset\u001b[39m(\u001b[38;5;28mmap\u001b[39m(_convert, node\u001b[38;5;241m.\u001b[39melts))\n",
      "File \u001b[0;32m/home/groups/ChangLab/simsz/conda/envs/wsi_process/lib/python3.9/ast.py:94\u001b[0m, in \u001b[0;36mliteral_eval.<locals>._convert\u001b[0;34m(node)\u001b[0m\n\u001b[1;32m     92\u001b[0m     \u001b[38;5;28;01mif\u001b[39;00m \u001b[38;5;28mlen\u001b[39m(node\u001b[38;5;241m.\u001b[39mkeys) \u001b[38;5;241m!=\u001b[39m \u001b[38;5;28mlen\u001b[39m(node\u001b[38;5;241m.\u001b[39mvalues):\n\u001b[1;32m     93\u001b[0m         _raise_malformed_node(node)\n\u001b[0;32m---> 94\u001b[0m     \u001b[38;5;28;01mreturn\u001b[39;00m \u001b[38;5;28;43mdict\u001b[39;49m\u001b[43m(\u001b[49m\u001b[38;5;28;43mzip\u001b[39;49m\u001b[43m(\u001b[49m\u001b[38;5;28;43mmap\u001b[39;49m\u001b[43m(\u001b[49m\u001b[43m_convert\u001b[49m\u001b[43m,\u001b[49m\u001b[43m \u001b[49m\u001b[43mnode\u001b[49m\u001b[38;5;241;43m.\u001b[39;49m\u001b[43mkeys\u001b[49m\u001b[43m)\u001b[49m\u001b[43m,\u001b[49m\n\u001b[1;32m     95\u001b[0m \u001b[43m                    \u001b[49m\u001b[38;5;28;43mmap\u001b[39;49m\u001b[43m(\u001b[49m\u001b[43m_convert\u001b[49m\u001b[43m,\u001b[49m\u001b[43m \u001b[49m\u001b[43mnode\u001b[49m\u001b[38;5;241;43m.\u001b[39;49m\u001b[43mvalues\u001b[49m\u001b[43m)\u001b[49m\u001b[43m)\u001b[49m\u001b[43m)\u001b[49m\n\u001b[1;32m     96\u001b[0m \u001b[38;5;28;01melif\u001b[39;00m \u001b[38;5;28misinstance\u001b[39m(node, BinOp) \u001b[38;5;129;01mand\u001b[39;00m \u001b[38;5;28misinstance\u001b[39m(node\u001b[38;5;241m.\u001b[39mop, (Add, Sub)):\n\u001b[1;32m     97\u001b[0m     left \u001b[38;5;241m=\u001b[39m _convert_signed_num(node\u001b[38;5;241m.\u001b[39mleft)\n",
      "File \u001b[0;32m/home/groups/ChangLab/simsz/conda/envs/wsi_process/lib/python3.9/ast.py:94\u001b[0m, in \u001b[0;36mliteral_eval.<locals>._convert\u001b[0;34m(node)\u001b[0m\n\u001b[1;32m     92\u001b[0m     \u001b[38;5;28;01mif\u001b[39;00m \u001b[38;5;28mlen\u001b[39m(node\u001b[38;5;241m.\u001b[39mkeys) \u001b[38;5;241m!=\u001b[39m \u001b[38;5;28mlen\u001b[39m(node\u001b[38;5;241m.\u001b[39mvalues):\n\u001b[1;32m     93\u001b[0m         _raise_malformed_node(node)\n\u001b[0;32m---> 94\u001b[0m     \u001b[38;5;28;01mreturn\u001b[39;00m \u001b[38;5;28;43mdict\u001b[39;49m\u001b[43m(\u001b[49m\u001b[38;5;28;43mzip\u001b[39;49m\u001b[43m(\u001b[49m\u001b[38;5;28;43mmap\u001b[39;49m\u001b[43m(\u001b[49m\u001b[43m_convert\u001b[49m\u001b[43m,\u001b[49m\u001b[43m \u001b[49m\u001b[43mnode\u001b[49m\u001b[38;5;241;43m.\u001b[39;49m\u001b[43mkeys\u001b[49m\u001b[43m)\u001b[49m\u001b[43m,\u001b[49m\n\u001b[1;32m     95\u001b[0m \u001b[43m                    \u001b[49m\u001b[38;5;28;43mmap\u001b[39;49m\u001b[43m(\u001b[49m\u001b[43m_convert\u001b[49m\u001b[43m,\u001b[49m\u001b[43m \u001b[49m\u001b[43mnode\u001b[49m\u001b[38;5;241;43m.\u001b[39;49m\u001b[43mvalues\u001b[49m\u001b[43m)\u001b[49m\u001b[43m)\u001b[49m\u001b[43m)\u001b[49m\n\u001b[1;32m     96\u001b[0m \u001b[38;5;28;01melif\u001b[39;00m \u001b[38;5;28misinstance\u001b[39m(node, BinOp) \u001b[38;5;129;01mand\u001b[39;00m \u001b[38;5;28misinstance\u001b[39m(node\u001b[38;5;241m.\u001b[39mop, (Add, Sub)):\n\u001b[1;32m     97\u001b[0m     left \u001b[38;5;241m=\u001b[39m _convert_signed_num(node\u001b[38;5;241m.\u001b[39mleft)\n",
      "File \u001b[0;32m/home/groups/ChangLab/simsz/conda/envs/wsi_process/lib/python3.9/ast.py:104\u001b[0m, in \u001b[0;36mliteral_eval.<locals>._convert\u001b[0;34m(node)\u001b[0m\n\u001b[1;32m    102\u001b[0m         \u001b[38;5;28;01melse\u001b[39;00m:\n\u001b[1;32m    103\u001b[0m             \u001b[38;5;28;01mreturn\u001b[39;00m left \u001b[38;5;241m-\u001b[39m right\n\u001b[0;32m--> 104\u001b[0m \u001b[38;5;28;01mreturn\u001b[39;00m \u001b[43m_convert_signed_num\u001b[49m\u001b[43m(\u001b[49m\u001b[43mnode\u001b[49m\u001b[43m)\u001b[49m\n",
      "File \u001b[0;32m/home/groups/ChangLab/simsz/conda/envs/wsi_process/lib/python3.9/ast.py:78\u001b[0m, in \u001b[0;36mliteral_eval.<locals>._convert_signed_num\u001b[0;34m(node)\u001b[0m\n\u001b[1;32m     76\u001b[0m     \u001b[38;5;28;01melse\u001b[39;00m:\n\u001b[1;32m     77\u001b[0m         \u001b[38;5;28;01mreturn\u001b[39;00m \u001b[38;5;241m-\u001b[39m operand\n\u001b[0;32m---> 78\u001b[0m \u001b[38;5;28;01mreturn\u001b[39;00m \u001b[43m_convert_num\u001b[49m\u001b[43m(\u001b[49m\u001b[43mnode\u001b[49m\u001b[43m)\u001b[49m\n",
      "File \u001b[0;32m/home/groups/ChangLab/simsz/conda/envs/wsi_process/lib/python3.9/ast.py:69\u001b[0m, in \u001b[0;36mliteral_eval.<locals>._convert_num\u001b[0;34m(node)\u001b[0m\n\u001b[1;32m     67\u001b[0m \u001b[38;5;28;01mdef\u001b[39;00m \u001b[38;5;21m_convert_num\u001b[39m(node):\n\u001b[1;32m     68\u001b[0m     \u001b[38;5;28;01mif\u001b[39;00m \u001b[38;5;129;01mnot\u001b[39;00m \u001b[38;5;28misinstance\u001b[39m(node, Constant) \u001b[38;5;129;01mor\u001b[39;00m \u001b[38;5;28mtype\u001b[39m(node\u001b[38;5;241m.\u001b[39mvalue) \u001b[38;5;129;01mnot\u001b[39;00m \u001b[38;5;129;01min\u001b[39;00m (\u001b[38;5;28mint\u001b[39m, \u001b[38;5;28mfloat\u001b[39m, \u001b[38;5;28mcomplex\u001b[39m):\n\u001b[0;32m---> 69\u001b[0m         \u001b[43m_raise_malformed_node\u001b[49m\u001b[43m(\u001b[49m\u001b[43mnode\u001b[49m\u001b[43m)\u001b[49m\n\u001b[1;32m     70\u001b[0m     \u001b[38;5;28;01mreturn\u001b[39;00m node\u001b[38;5;241m.\u001b[39mvalue\n",
      "File \u001b[0;32m/home/groups/ChangLab/simsz/conda/envs/wsi_process/lib/python3.9/ast.py:66\u001b[0m, in \u001b[0;36mliteral_eval.<locals>._raise_malformed_node\u001b[0;34m(node)\u001b[0m\n\u001b[1;32m     65\u001b[0m \u001b[38;5;28;01mdef\u001b[39;00m \u001b[38;5;21m_raise_malformed_node\u001b[39m(node):\n\u001b[0;32m---> 66\u001b[0m     \u001b[38;5;28;01mraise\u001b[39;00m \u001b[38;5;167;01mValueError\u001b[39;00m(\u001b[38;5;124mf\u001b[39m\u001b[38;5;124m'\u001b[39m\u001b[38;5;124mmalformed node or string: \u001b[39m\u001b[38;5;132;01m{\u001b[39;00mnode\u001b[38;5;132;01m!r}\u001b[39;00m\u001b[38;5;124m'\u001b[39m)\n",
      "\u001b[0;31mValueError\u001b[0m: malformed node or string: <ast.Name object at 0x7f5df5174fa0>"
     ]
    }
   ],
   "source": [
    "texts = [return_full_text(pmid) for pmid in pmids]"
   ]
  },
  {
   "cell_type": "code",
   "execution_count": 70,
   "id": "93516953",
   "metadata": {
    "scrolled": false
   },
   "outputs": [
    {
     "name": "stdout",
     "output_type": "stream",
     "text": [
      "PMC9391125 retrieval failed\n",
      "PMC17675562 retrieval failed\n",
      "PMC1540396 retrieval failed\n",
      "PMC12968525 retrieval failed\n",
      "PMC28410399 retrieval success\n",
      "PMC23072111 retrieval failed\n",
      "PMC26157167 retrieval success\n",
      "PMC7462021 retrieval failed\n",
      "PMC18401831 retrieval failed\n",
      "PMC24165549 retrieval failed\n",
      "PMC23706521 retrieval failed\n",
      "PMC10614769 retrieval failed\n",
      "PMC10741464 retrieval failed\n",
      "PMC2745569 retrieval failed\n",
      "PMC3013885 retrieval failed\n",
      "PMC11509826 retrieval failed\n",
      "PMC6888481 retrieval failed\n",
      "PMC25913486 retrieval success\n",
      "PMC3009390 retrieval failed\n",
      "PMC10846024 retrieval failed\n",
      "PMC3337893 retrieval failed\n",
      "PMC28011141 retrieval success\n",
      "PMC3087056 retrieval failed\n",
      "PMC3819723 retrieval failed\n",
      "PMC3364082 retrieval failed\n",
      "PMC165185 retrieval failed\n",
      "PMC21247579 retrieval failed\n",
      "PMC8331923 retrieval failed\n",
      "PMC31902842 retrieval failed\n",
      "PMC3440778 retrieval failed\n",
      "PMC7458088 retrieval failed\n",
      "PMC24466087 retrieval success\n",
      "PMC27774476 retrieval success\n",
      "PMC3355797 retrieval failed\n",
      "PMC34576310 retrieval success\n",
      "PMC14729515 retrieval failed\n",
      "PMC10427991 retrieval failed\n",
      "PMC28330951 retrieval success\n",
      "PMC21950133 retrieval failed\n",
      "PMC14559717 retrieval failed\n",
      "PMC19401393 retrieval failed\n",
      "PMC8630267 retrieval failed\n",
      "PMC8312559 retrieval failed\n",
      "PMC9729560 retrieval failed\n",
      "PMC27075387 retrieval failed\n",
      "PMC10440753 retrieval failed\n",
      "PMC1034634 retrieval failed\n",
      "PMC29079853 retrieval success\n",
      "PMC23494472 retrieval failed\n",
      "PMC23179187 retrieval failed\n"
     ]
    }
   ],
   "source": [
    "texts = [return_full_text(pmid) for pmid in pmids]"
   ]
  },
  {
   "cell_type": "code",
   "execution_count": 64,
   "id": "497d6de5",
   "metadata": {},
   "outputs": [
    {
     "data": {
      "text/plain": [
       "\"A Rare Case Report of NEHI in a Preterm Infant with Review of the LiteratureBackground Neuroendocrine cell hyperplasia of infancy (NEHI) is a rare respiratory disorder. During infancy, it typically presents with hypoxemia, tachypnea, and respiratory distress, and is commonly misdiagnosed as common childhood illnesses such as pneumonia, reactive airway disease, or bronchiolitis. Lack of awareness about this relatively new and rare disorder in primary care and acute care settings lead to delayed diagnosis and unnecessary use of antibiotics. Case Presentation. We present a case of a 7-month-old girl, born prematurely at 32 weeks with tachypnea and respiratory distress who was initially diagnosed with viral pneumonia, then upper respiratory infection, and finally with community-acquired bacterial pneumonia, while the child never had any fever or upper respiratory symptoms. Failure of outpatient treatment with oral antibiotic and bronchodilator, with the persistence of respiratory symptoms such as retractions, bilateral crackles, and hypoxemia led to hospitalization for intravenous antibiotics. Given persistent symptoms, further evaluation was performed, and she was diagnosed with NEHI based on characteristic chest CT findings. Conclusions Viral respiratory infections are the most frequent cause of respiratory illnesses in the first years of life. Primary care providers should be aware of less frequent causes of persistent respiratory symptoms in infancy like NEHI and other interstitial lung diseases in children. This may prevent unnecessary use of antibiotics and delayed diagnosis.1. IntroductionNeuroendocrine cell hyperplasia of infancy (NEHI) is a type of childhood interstitial lung disease which usually presents in early infancy. It was originally named persistent tachypnea of infancy but has subsequently been renamed as NEHI based on characteristic hyperplasia of pulmonary neuroendocrine cells (PNEC) on histological examinations of lung biopsies. NEHI typically presents in full-term infants within the first year of life with chronic respiratory symptoms such as tachypnea, hypoxemia, retractions, or respiratory crackles and is commonly associated with failure to thrive. When suspected, chest high resolution computed tomography (HRCT) is performed, and images typically show a characteristic pattern of diffuse ground-glass opacities in the right middle lobe and lingula with varying degrees of air trapping. Lung biopsy used to be the gold standard in diagnosis, but in most cases, a detailed clinical evaluation and HRCT are sufficient to make the diagnosis.NEHI is a rare disorder of infancy, and delay in the diagnosis is not different from other rare disorders. We report a case of a preterm infant with tachypnea and persistent respiratory symptoms who was diagnosed at first as upper respiratory infection, bronchiolitis, reactive airway disease, and then community-acquired pneumonia. Failure to respond to antibiotic treatment and persistence of symptoms led to a thorough diagnostic evaluation and consultation with a pediatric pulmonologist, which resulted in a diagnosis of NEHI.2. Case ReportThe patient was born vaginally at 32 weeks of gestational age with a birth weight of 1770 grams. Mother was induced at 32 weeks for preeclampsia and gestational diabetes. The patient had respiratory distress at birth and required CPAP for 14 hours before transitioning to room air. The patient required NG feeding for the first several weeks but successfully transitioned to full oral feeding. The newborn screen was negative.At her 6-month well-child visit, the mother expressed concern about an increased respiratory rate. The primary care provider noted fine crackles on chest auscultation. A chest X-ray (CXR) revealed mild hyperinflation and bilateral perihilar interstitial scattered patchy pulmonary opacities. The patient was not febrile and did not seem to be in respiratory distress. She was diagnosed with viral pneumonia; supportive care was recommended.Three weeks later, the patient was evaluated in urgent care for tachypnea and increased work of breathing. She did not have any signs of upper respiratory illness or fever.On physical examination, she had tachypnea, nasal flaring, and intercostal retractions and oxygen saturation was 94% on room air. On auscultation, wheezing was noted with fine crackles bilaterally. Wheezing improved after albuterol nebulization, but crackles persisted bilaterally. She tested negative for Respiratory Syncytial Virus and Influenza A&B. CXR revealed mild patchy airspace opacities in the lung base, more pronounced on the right side, and mild peribronchial thickening. She was diagnosed with community-acquired bacterial pneumonia, but reactive airway disease could not be ruled out. She was discharged home on amoxicillin and albuterol inhaler as needed. Her symptoms did not improve, and she continued to have tachypnea, and intermittent shortness of breath was seen in the emergency room, where she was given oral dexamethasone and was discharged home; continuation of albuterol and amoxicillin was recommended.A day later, she had a follow-up in the primary pediatrician's clinic and she was admitted for persistent of respiratory symptoms with oxygen saturation of 91% on room air. A repeat CXR did not reveal any significant changes from the last X-ray. CBC and CRP were unremarkable, but she was started on intravenous (IV) ceftriaxone and oral azithromycin therapy for presumed bacterial pneumonia. Additionally, she was started on oral prednisolone for likely acute exacerbation of reactive airway disease. Interestingly, during the time of her illness, she never spiked fevers, nor did she have any upper respiratory symptoms such as runny nose, nasal congestion, or coughing spells. She required supplemental oxygen for tachypnea and intermittent suprasternal and intercostal retractions. An echocardiogram was obtained, and there were no signs of congestive heart failure or congenital heart anomalies. Albuterol nebulization treatments did not improve her respiratory distress.The patient was transferred to a tertiary children's hospital. There, she was evaluated by a pediatric pulmonologist and an infectious disease specialist. She continued to be afebrile. CBC and CRP were again normal, and antibiotics were discontinued due to low suspicion for bacterial infection. Respiratory panel from nasopharyngeal swab was negative for Adenovirus, Coronavirus 229E, Coronavirus HKU1, Coronavirus NL63, Coronavirus OC43, Human Metapneumovirus, Human Rhinovirus/Enterovirus, Parainfluenza virus 1–4, RSV, Bordetella pertussis, Chlamydophila pneumoniae, Mycoplasma pneumoniae, Influenza A and Influenza B. Bronchoscopy did not demonstrate any anatomic or structural abnormalities. Bronchoalveolar lavage fluid had 81% alveolar macrophages, 2% lymphocytes, 7% neutrophils. 5% eosinophils, and 5% other lining cells. Gram stain and fungal smear/culture were negative. Mycoplasma PCR, acid-fast smear/mycobacterial culture and bacterial culture, and respiratory pathogen panel were also negative. Pneumocystis carinii (PCP) PCR resulted as positive; however, PCP smear was negative. The crossing point for the PCR was 35.76, which is quite high, indicating a very low organism burden. Given that the PCP smear was also negative, it was felt that the positive PCP PCR likely represented colonization. As PCP is typically only seen in the context of severe immunosuppression, a comprehensive immunologic workup was performed. T and B cell subsets were normal with a very robust CD4 count of 3,586, and negative HIV Ab/Ag screen, immunoglobulin G, A, and E were normal, and IgM was mildly low for age. CBC with differential and LDH levels were within normal limits; she also had a video swallow study with no laryngeal penetration or aspiration identified.Chest HRCT without IV contrast demonstrated the characteristic findings of NEHI which includes central predominant ground-glass opacities involving primarily the right middle lobe and lingula, as well as the medial upper and lower lobes to a lesser degree (Figure 1 and Figure 2). Linear opacities were also seen in the left apex medially and the bibasilar lower lobes, consistent with atelectasis.CT Images in Figures 1 and 2 show ground-glass opacities in the right middle lobe, lingula, and atelectasis of the lower lobes.A comprehensive genetic test for pulmonary diseases was performed. The PulmoGene Panel contains 64 genes that are associated with genetic conditions that have a pulmonary component, such as cystic lung disease, bronchiectasis, idiopathic pulmonary fibrosis, and pulmonary hypertension. It includes testing for several syndromes: Alpha-1-antitrypsin.Deficiency, Birt-Hogg-Dube syndrome, congenital central hypoventilation syndrome, cutis laxa and emphysema, cystic fibrosis, hereditary hemorrhagic telangiectasia, Hermansky- Pudlak syndrome, primary ciliary dyskinesia, and tuberous sclerosis complex associated lymphangiomyomatosis. A heterozygous variant was identified in DNAH gene which is associated with autosomal recessive primary ciliary dyskinesia.The patient was discharged home on supplemental oxygen 1/2 per minute via nasal cannula. Given her underlying lung disease, need for chronic oxygen therapy, and underlying prematurity, the patient received palivizumab prophylaxis for the following winter season.The patient is currently 34 months old and continues to require intermittent oxygen supplementation. Her growth percentile is between the 3rd to 5th percentile but stable. The patient is followed closely by nutrition and pulmonology.3. DiscussionNEHI is a rare type of early childhood interstitial lung disease and the incidence and prevalence remain unknown. NEHI term was first coined in 2005 and now it is classified as a type of children's interstitial and diffuse lung disease (chILD). The typical presentation is between 3 and 7 months of age with insidious onset of chronic respiratory symptoms in otherwise healthy children. The most prominent clinical features are tachypnea, hypoxemia, and crackles in lower lung fields. Wheezing and cough are less common symptoms reported in NEHI cases but failure to thrive is commonly associated with NEHI. Delay in diagnosis is common as children undergo evaluation focused on more common pulmonary conditions like upper and lower respiratory infections and other common chronic lung diseases. Awareness of rare disorders such as NEHI continues to be an issue and is the likely cause behind delayed diagnosis and unnecessary use of antibiotics and steroids in these cases.Historically, lung biopsy was often performed in addition to HRCT to confirm a diagnosis of NEHI. Hyperplasia of PNEC and increased level of bombesin are pathognomic features on histological examinations of lung tissues in NEHI. However, a study conducted by Brody, et al. in 2010 looked at 23 CT scans of children with biopsy-proven NEHI and reported a sensitivity of 78% and a specificity of 100% in the diagnosis of NEHI, suggesting that lung biopsy is not necessary for the diagnosis of NEHI if there are specific HRCT findings with typical clinical presentation and symptomatology. Currently, the histopathological exam is not performed routinely to confirm the diagnosis due to the distinctive ground-glass appearance on HRCT. This unique pattern of ground-glass opacities in the right middle lobe and lingula with varying degrees of air trapping is characteristic of NEHI.. Rauch et al. examined 89 cases of NEHI retrospectively and concluded that NEHI can be diagnosed based on detailed, clinical findings, and HRCT and lung biopsy may be limited to rare, complicated cases which could reduce the need for an invasive procedure that could be potentially harmful. NEHI clinical score was recently proposed by Liptzin et al. for clinical evaluation of NEHI and the authors also recommended that comorbidities such as gastroesophageal reflux, aspiration, and immune system abnormalities should also be evaluated at the time of initial evaluation as they may influence clinical course and treatment.Proposed factors in the pathogenesis of NEHI include abnormalities in acute or chronic oxygen sensor function of PNEC, dysregulation of neurogenic gene expression, and the resultant effects of cytokines derived from low-grade airway inflammation. Bush et al. proposed that rather than being a discrete condition, NEHI could be the result of airway dysmaturation, which may co-exist with other maturational lung defects. Additionally, two studies have proposed possible genetic mechanisms for NEHI. One study identified four families containing nine patients with a NEHI diagnosis suggesting a genetic connection. Another study reported a mutation in NKX2-1 in a NEHI patient with a family history of various lung diseases. However, the NKX2-1 mutation may result in but is not the predominant cause of NEHI. Thus, the exact etiology of NEHI remains unclear.There is no specific treatment for NEHI, but most of the patients require prolonged supplemental oxygen through the second year of life. In our case, the patient currently is 34-month-old and continues to require supplemental oxygen at night. Generally, the outcome is good with no oxygen requirements and normal exercise tolerance later in life. Nevel et al. proposed that long-term impact on lung functions and associated lifelong complications is possible in some familial form of NEHI. However, the long-term prognosis of NEHI is unknown. In our case, the presence of prematurity was a confounder. NEHI in the setting of prematurity is very rare in the literature.4. ConclusionsTachypnea, hypoxemia, and respiratory distress in infants are commonly associated with viral bronchiolitis or pneumonia. However, if there is clinical-diagnostic discordance and persistence of symptoms, other uncommon etiologies such as NEHI should be considered. While more research is needed regarding the exact etiology of NEHI, it is important that primary care clinicians are aware of the symptoms and clinical presentation of NEHI. This case report of NEHI may help educate primary care providers about NEHI so that timely diagnosis could prevent unnecessary use of antibiotics and excessive resource use.Data AvailabilityThe authors confirm that the data supporting the findings of this study are available within the article.ConsentWritten informed consent to publish this case report was obtained by the patients next of kin.Conflicts of InterestThe authors declare that they have no conflicts of interest.Authors' ContributionsAll authors contributed to the study design, critically reviewed the first draft, approved the final version, and agreed to be accountable for the work. All authors have full access to the manuscript and all the data in the study.An official American Thoracic Society clinical practice guideline: classification, evaluation, and management of childhood interstitial lung disease in infancyPersistent tachypnea of infancy (PTI)–a new entityPersistent tachypnea of infancy is associated with neuroendocrine cell hyperplasiaInterstitial lung disease in childrenNeuroendocrine Cell Hyperplasia of Infancy: a prospective follow‐up of nine childrenCurrent update on interstitial lung disease of infancy: new classification system, diagnostic evaluation, imaging algorithms, imaging findings, and prognosisNeuroendocrine cell hyperplasia of infancy: diagnosis with high-resolution CTGround-glass burden as a biomarker in neuroendocrine cell hyperplasia of infancyPersistent tachypnea of infancy. Usual and aberrantKnowledge and attitudes of future healthcare professionals toward rare diseasesRare becomes more common: recognizing neuroendocrine cell hyperplasia of infancy in everyday pulmonary consultationsDiagnostic criteria and follow-up in neuroendocrine cell hyperplasia of infancy: a case seriesNeuroendocrine cell hyperplasia of infancy. Clinical score and comorbiditiesHyperplasia of pulmonary neuroendocrine cells in infancy and childhoodEarly onset children’s interstitial lung diseases: discrete entities or manifestations of pulmonary dysmaturity?Familial neuroendocrine cell hyperplasia of infancyPersistent lung disease in adults with NKX2.1 mutation and familial neuroendocrine cell hyperplasia of infancyClinical, functional, and computed tomography findings in a cohort of patients with neuroendocrine cell hyperplasia of infancyCT chest axial view shows groundglass opacities primarily involving right middle lobe and lingula.CT chest coronal view shows patchy central groundglass opacities and lower lobe atelectasis.\""
      ]
     },
     "execution_count": 64,
     "metadata": {},
     "output_type": "execute_result"
    }
   ],
   "source": [
    "texts[3]"
   ]
  },
  {
   "cell_type": "code",
   "execution_count": null,
   "id": "e8b3b204",
   "metadata": {},
   "outputs": [],
   "source": []
  }
 ],
 "metadata": {
  "kernelspec": {
   "display_name": "Python [conda env:wsi_process]",
   "language": "python",
   "name": "conda-env-wsi_process-py"
  },
  "language_info": {
   "codemirror_mode": {
    "name": "ipython",
    "version": 3
   },
   "file_extension": ".py",
   "mimetype": "text/x-python",
   "name": "python",
   "nbconvert_exporter": "python",
   "pygments_lexer": "ipython3",
   "version": "3.9.18"
  }
 },
 "nbformat": 4,
 "nbformat_minor": 5
}
